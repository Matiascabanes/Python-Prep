{
 "cells": [
  {
   "cell_type": "code",
   "execution_count": null,
   "metadata": {},
   "outputs": [],
   "source": [
    "1) Crear una variable que contenga un elemento del conjunto de números enteros y luego imprimir por pantalla si es mayor o menor a cero"
   ]
  },
  {
   "cell_type": "code",
   "execution_count": 2,
   "metadata": {},
   "outputs": [
    {
     "name": "stdout",
     "output_type": "stream",
     "text": [
      "es mayor a cero\n"
     ]
    }
   ],
   "source": [
    "var1 = 8\n",
    "if var1 > 0:\n",
    "    print (\"es mayor a cero\")\n",
    "else :\n",
    "    \"no es mayor a cero\"\n"
   ]
  },
  {
   "attachments": {},
   "cell_type": "markdown",
   "metadata": {},
   "source": [
    "2) Crear dos variables y un condicional que informe si son del mismo tipo de dato"
   ]
  },
  {
   "cell_type": "code",
   "execution_count": 4,
   "metadata": {},
   "outputs": [
    {
     "name": "stdout",
     "output_type": "stream",
     "text": [
      "las variables no son del mismo tipo\n"
     ]
    }
   ],
   "source": [
    "var2= 7\n",
    "var3 = \"7\"\n",
    "if type(var2) == type(var3):\n",
    "    print(\"las variables son del mismo tipo\")\n",
    "else:\n",
    "    print(\"las variables no son del mismo tipo\")"
   ]
  },
  {
   "attachments": {},
   "cell_type": "markdown",
   "metadata": {},
   "source": [
    "Para los valores enteros del 1 al 20, imprimir por pantalla si es par o impar"
   ]
  },
  {
   "cell_type": "code",
   "execution_count": 16,
   "metadata": {},
   "outputs": [
    {
     "name": "stdout",
     "output_type": "stream",
     "text": [
      "1 el numero es impar\n",
      "2 el numero es par\n",
      "3 el numero es impar\n",
      "4 el numero es par\n",
      "5 el numero es impar\n",
      "6 el numero es par\n",
      "7 el numero es impar\n",
      "8 el numero es par\n",
      "9 el numero es impar\n",
      "10 el numero es par\n",
      "11 el numero es impar\n",
      "12 el numero es par\n",
      "13 el numero es impar\n",
      "14 el numero es par\n",
      "15 el numero es impar\n",
      "16 el numero es par\n",
      "17 el numero es impar\n",
      "18 el numero es par\n",
      "19 el numero es impar\n",
      "20 el numero es par\n"
     ]
    }
   ],
   "source": [
    "for n in range(1,21):\n",
    "    if (n%2)==0:\n",
    "        print(str(n) + \" el numero es par\")\n",
    "    else:\n",
    "        print(str(n) + \" el numero es impar\")\n"
   ]
  },
  {
   "attachments": {},
   "cell_type": "markdown",
   "metadata": {},
   "source": [
    "4) En un ciclo for mostrar para los valores entre 0 y 5 el resultado de elevarlo a la potencia igual a 3"
   ]
  },
  {
   "cell_type": "code",
   "execution_count": 23,
   "metadata": {},
   "outputs": [
    {
     "name": "stdout",
     "output_type": "stream",
     "text": [
      "el resultado de elevar a la potencia 3 a 0 es 0\n",
      "el resultado de elevar a la potencia 3 a 1 es 1\n",
      "el resultado de elevar a la potencia 3 a 2 es 8\n",
      "el resultado de elevar a la potencia 3 a 3 es 27\n",
      "el resultado de elevar a la potencia 3 a 4 es 64\n",
      "el resultado de elevar a la potencia 3 a 5 es 125\n"
     ]
    }
   ],
   "source": [
    "for n in range(0,6):\n",
    "    print(\"el resultado de elevar a la potencia 3 a\", n, \"es\", n**3)"
   ]
  },
  {
   "attachments": {},
   "cell_type": "markdown",
   "metadata": {},
   "source": [
    "5) Crear una variable que contenga un número entero y realizar un ciclo for la misma cantidad de ciclos"
   ]
  },
  {
   "cell_type": "code",
   "execution_count": 14,
   "metadata": {},
   "outputs": [
    {
     "name": "stdout",
     "output_type": "stream",
     "text": [
      "4\n"
     ]
    }
   ],
   "source": [
    "var5= 5\n",
    "for n in range (0,var5):\n",
    "    pass\n",
    "print(n)\n"
   ]
  },
  {
   "attachments": {},
   "cell_type": "markdown",
   "metadata": {},
   "source": [
    "6) Utilizar un ciclo while para realizar el factorial de un número guardado en una variable, sólo si la variable contiene un número entero mayor a 0"
   ]
  },
  {
   "cell_type": "code",
   "execution_count": 30,
   "metadata": {},
   "outputs": [
    {
     "name": "stdout",
     "output_type": "stream",
     "text": [
      "el factorial de 5 es 120\n"
     ]
    }
   ],
   "source": [
    "var6 = 5\n",
    "if type(var6) == int:\n",
    "    if (var6>0):\n",
    "        a_orig = var6\n",
    "        factorial = var6\n",
    "        while (var6>1):\n",
    "            var6-=1\n",
    "            factorial=var6*factorial\n",
    "        print(\"el factorial de\",a_orig, \"es\", factorial)\n",
    "    else:\n",
    "        print(\"el numero no es mayor a cero\")\n",
    "else:\n",
    "    print(\" el numero no es entero\")\n",
    "\n",
    "\n",
    "        \n"
   ]
  },
  {
   "attachments": {},
   "cell_type": "markdown",
   "metadata": {},
   "source": [
    "Crear un ciclo for dentro de un ciclo while"
   ]
  },
  {
   "cell_type": "code",
   "execution_count": 37,
   "metadata": {},
   "outputs": [
    {
     "name": "stdout",
     "output_type": "stream",
     "text": [
      "el ciclo while 5 el ciclo for es 1\n",
      "el ciclo while 5 el ciclo for es 2\n",
      "el ciclo while 5 el ciclo for es 3\n",
      "el ciclo while 5 el ciclo for es 4\n"
     ]
    }
   ],
   "source": [
    "n=5\n",
    "for i in range (1,n):\n",
    "    while n<5:\n",
    "        n-=1\n",
    "    print(\"el ciclo while\", n, \"el ciclo for es\", i)\n",
    "    \n"
   ]
  }
 ],
 "metadata": {
  "kernelspec": {
   "display_name": "Python 3",
   "language": "python",
   "name": "python3"
  },
  "language_info": {
   "codemirror_mode": {
    "name": "ipython",
    "version": 3
   },
   "file_extension": ".py",
   "mimetype": "text/x-python",
   "name": "python",
   "nbconvert_exporter": "python",
   "pygments_lexer": "ipython3",
   "version": "3.10.9"
  },
  "orig_nbformat": 4,
  "vscode": {
   "interpreter": {
    "hash": "e0d6f955f6b20eb780b1bed86b0701aab2a0d057c895afdcce576bc2196dcc6d"
   }
  }
 },
 "nbformat": 4,
 "nbformat_minor": 2
}
